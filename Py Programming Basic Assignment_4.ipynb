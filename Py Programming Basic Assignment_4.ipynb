{
 "cells": [
  {
   "cell_type": "markdown",
   "id": "9d33d459",
   "metadata": {},
   "source": [
    "1. Write a Python Program to Find the Factorial of a Number?"
   ]
  },
  {
   "cell_type": "code",
   "execution_count": 6,
   "id": "5be32ae6",
   "metadata": {},
   "outputs": [
    {
     "name": "stdout",
     "output_type": "stream",
     "text": [
      " Enter any number: 5\n",
      "The factorial of 5 is :120\n"
     ]
    }
   ],
   "source": [
    "num = int(input(\" Enter any number: \"))\n",
    "fact = 1\n",
    "\n",
    "for i in range(1, num + 1):\n",
    "    fact = fact * i\n",
    "print(\"The factorial of %d is :%d\" %(num, fact))"
   ]
  },
  {
   "cell_type": "markdown",
   "id": "c4e1543a",
   "metadata": {},
   "source": [
    "2. Write a Python Program to Display the multiplication Table?"
   ]
  },
  {
   "cell_type": "code",
   "execution_count": 11,
   "id": "0cff185e",
   "metadata": {},
   "outputs": [
    {
     "name": "stdout",
     "output_type": "stream",
     "text": [
      "Multiplication Table\n",
      "Enter the number to which  user wants to print the multiplication table: 8\n",
      "8 x 1 = 8\n",
      "8 x 2 = 16\n",
      "8 x 3 = 24\n",
      "8 x 4 = 32\n",
      "8 x 5 = 40\n",
      "8 x 6 = 48\n",
      "8 x 7 = 56\n",
      "8 x 8 = 64\n",
      "8 x 9 = 72\n",
      "8 x 10 = 80\n"
     ]
    }
   ],
   "source": [
    "print(\"Multiplication Table\")\n",
    "num=int(input(\"Enter the number to which  user wants to print the multiplication table: \"))\n",
    "for count in range(1,11):\n",
    "    print (num, 'x', count, '=', num * count)    "
   ]
  },
  {
   "cell_type": "code",
   "execution_count": 10,
   "id": "a3330bf0",
   "metadata": {},
   "outputs": [
    {
     "data": {
      "text/plain": [
       "10"
      ]
     },
     "execution_count": 10,
     "metadata": {},
     "output_type": "execute_result"
    }
   ],
   "source": [
    "len(range(1,11))"
   ]
  },
  {
   "cell_type": "markdown",
   "id": "de3ef801",
   "metadata": {},
   "source": [
    "3. Write a Python Program to Print the Fibonacci sequence?"
   ]
  },
  {
   "cell_type": "code",
   "execution_count": 13,
   "id": "8258256e",
   "metadata": {},
   "outputs": [
    {
     "name": "stdout",
     "output_type": "stream",
     "text": [
      "Enter the range number: 13\n",
      "0\n",
      "1\n",
      "1\n",
      "2\n",
      "3\n",
      "5\n",
      "8\n",
      "13\n",
      "21\n",
      "34\n",
      "55\n",
      "89\n",
      "144\n"
     ]
    }
   ],
   "source": [
    "num =int(input(\"Enter the range number: \"))\n",
    "#initializing first and second values of the series\n",
    "i=0\n",
    "first_val=0\n",
    "second_val=1\n",
    "while(i<num):\n",
    "    if(i<=1):\n",
    "        next=i\n",
    "    else:\n",
    "        next=first_val+second_val\n",
    "        first_val=second_val\n",
    "        second_val=next\n",
    "    print(next)\n",
    "    i=i+1"
   ]
  },
  {
   "cell_type": "markdown",
   "id": "5a8f4cd1",
   "metadata": {},
   "source": [
    "4. Write a Python Program to Check Armstrong Number?"
   ]
  },
  {
   "cell_type": "code",
   "execution_count": 32,
   "id": "fbb375dc",
   "metadata": {},
   "outputs": [
    {
     "name": "stdout",
     "output_type": "stream",
     "text": [
      "Enter a number : 407\n",
      "407 is an Arsmstrong number\n"
     ]
    }
   ],
   "source": [
    "num=int(input(\"Enter a number : \"))\n",
    "sum=0\n",
    "#fid the sum of cube of each digit\n",
    "temp=num\n",
    "while temp>0:\n",
    "    digit=temp%10\n",
    "    sum+=digit**3\n",
    "    temp//=10\n",
    "if num==sum:\n",
    "    print(num,\"is an Arsmstrong number\")\n",
    "else:\n",
    "    print(num,\"is not an Armstrong number\")\n",
    "  \n",
    "       \n"
   ]
  },
  {
   "cell_type": "markdown",
   "id": "e4fbcdd8",
   "metadata": {},
   "source": [
    "5. Write a Python Program to Find Armstrong Number in an Interval?"
   ]
  },
  {
   "cell_type": "code",
   "execution_count": 38,
   "id": "b27821cf",
   "metadata": {},
   "outputs": [
    {
     "name": "stdout",
     "output_type": "stream",
     "text": [
      "Enter the lower Number :100\n",
      "Enter the upper Number :1000\n",
      "Armstrong Number in an Interval is:\n",
      "153\n",
      "370\n",
      "371\n",
      "407\n"
     ]
    }
   ],
   "source": [
    "lower=int(input(\"Enter the lower Number :\"))\n",
    "upper=int(input('Enter the upper Number :'))\n",
    "print(\"Armstrong Number in an Interval is:\")\n",
    "for i in range (lower,upper+1):\n",
    "    #order of number\n",
    "    order = len(str(num))\n",
    "    #initialize sum\n",
    "    sum=0\n",
    "    temp=i\n",
    "    while temp>0:\n",
    "        digit=temp%10\n",
    "        sum+=digit**order  \n",
    "        temp//=10\n",
    "    if i==sum: \n",
    "       \n",
    "        print(i)\n"
   ]
  },
  {
   "cell_type": "markdown",
   "id": "5e577022",
   "metadata": {},
   "source": [
    "6. Write a Python Program to Find the Sum of Natural Numbers?"
   ]
  },
  {
   "cell_type": "code",
   "execution_count": 43,
   "id": "5bea7bf6",
   "metadata": {},
   "outputs": [
    {
     "name": "stdout",
     "output_type": "stream",
     "text": [
      "Please Enter any Number: 100\n",
      "The Sum of Natural Numbers from 1 to 100 is: 5050\n"
     ]
    }
   ],
   "source": [
    "number = int(input(\"Please Enter any Number: \"))\n",
    "\n",
    "total = 0\n",
    "value = 1\n",
    "\n",
    "while (value <= number):\n",
    "    total = total + value\n",
    "    value = value + 1\n",
    "\n",
    "print(\"The Sum of Natural Numbers from 1 to %s\"%(number),\"is:\",total)"
   ]
  }
 ],
 "metadata": {
  "kernelspec": {
   "display_name": "Python 3 (ipykernel)",
   "language": "python",
   "name": "python3"
  },
  "language_info": {
   "codemirror_mode": {
    "name": "ipython",
    "version": 3
   },
   "file_extension": ".py",
   "mimetype": "text/x-python",
   "name": "python",
   "nbconvert_exporter": "python",
   "pygments_lexer": "ipython3",
   "version": "3.9.7"
  }
 },
 "nbformat": 4,
 "nbformat_minor": 5
}
