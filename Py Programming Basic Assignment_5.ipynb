{
 "cells": [
  {
   "cell_type": "markdown",
   "id": "1b97a3ee",
   "metadata": {},
   "source": [
    "1. Write a Python Program to Find LCM?"
   ]
  },
  {
   "cell_type": "code",
   "execution_count": 14,
   "id": "33205461",
   "metadata": {},
   "outputs": [
    {
     "name": "stdout",
     "output_type": "stream",
     "text": [
      " Please Enter the First Value   : 15\n",
      " Please Enter the Second Value  : 20\n",
      "\n",
      " LCM of 15.0 and 20.0 = 60.0\n"
     ]
    }
   ],
   "source": [
    "def findlcm(a, b):\n",
    "    if(a > b):\n",
    "        maximum = a\n",
    "    else:\n",
    "        maximum = b\n",
    "\n",
    "    while(True):\n",
    "        if(maximum % a == 0 and maximum % b == 0):\n",
    "            lcm = maximum;\n",
    "            break;\n",
    "        maximum = maximum + 1\n",
    "    return lcm\n",
    "a = float(input(\" Please Enter the First Value   : \"))\n",
    "b = float(input(\" Please Enter the Second Value  : \"))\n",
    "lcm = findlcm(a, b)\n",
    "print(\"\\n LCM of %s and %s = %s\"%(a, b, lcm))"
   ]
  },
  {
   "cell_type": "markdown",
   "id": "b2b2fbb0",
   "metadata": {},
   "source": [
    "2. Write a Python Program to Find HCF?"
   ]
  },
  {
   "cell_type": "code",
   "execution_count": 13,
   "id": "8a5ebe01",
   "metadata": {},
   "outputs": [
    {
     "name": "stdout",
     "output_type": "stream",
     "text": [
      "Enter first number: 15\n",
      "Enter second number: 20\n",
      "The H.C.F. of 15 and 20 is : 5\n"
     ]
    }
   ],
   "source": [
    "def findhcf(a, b):  \n",
    "    # selecting the smaller number  \n",
    "    if a > b:  \n",
    "        maximum = b  \n",
    "    else:  \n",
    "        maximum = a  \n",
    "    for i in range(1,maximum + 1):  \n",
    "        if((a % i == 0) and (b % i == 0)):  \n",
    "            hcf = i  \n",
    "    return hcf  \n",
    "  \n",
    "# taking input from users  \n",
    "a = int(input(\"Enter first number: \"))  \n",
    "b = int(input(\"Enter second number: \"))  \n",
    "# printing the result for the users  \n",
    "print(\"The H.C.F. of\", num1,\"and\", num2,\"is :\", findhcf(a, b))  "
   ]
  },
  {
   "cell_type": "markdown",
   "id": "083b8c87",
   "metadata": {},
   "source": [
    "3. Write a Python Program to Convert Decimal to Binary, Octal and Hexadecimal?"
   ]
  },
  {
   "cell_type": "code",
   "execution_count": 23,
   "id": "240c9fae",
   "metadata": {},
   "outputs": [
    {
     "name": "stdout",
     "output_type": "stream",
     "text": [
      "Enter the decimal value: 15\n",
      "The given decimal number  15 in binary is : 0b1111\n",
      "The given decimal number 15 in octal is : 0o17\n",
      "The given decimal number 15 in hexadecimal is : 0xf\n"
     ]
    }
   ],
   "source": [
    "#decimal to binary.......\n",
    "def dec_to_binary(decimal_1):\n",
    "    decimal=int(decimal_1)\n",
    "    print(\"The given decimal number \",decimal,\"in binary is :\",bin(decimal))\n",
    "\n",
    "#decimal to octal....\n",
    "def dec_to_octal(decimal_1):\n",
    "    decimal=int(decimal_1)\n",
    "    print(\"The given decimal number\",decimal,\"in octal is :\",oct(decimal))\n",
    "\n",
    "#decimal to hexadecimal.....\n",
    "def dec_to_hexdecimal(decimal_1):\n",
    "    decimal=int(decimal_1)\n",
    "    print(\"The given decimal number\",decimal,\"in hexadecimal is :\",hex(decimal))\n",
    "\n",
    "decimal_1=int(input(\"Enter the decimal value: \"))\n",
    "dec_to_binary(decimal_1)\n",
    "dec_to_octal(decimal_1)\n",
    "dec_to_hexdecimal(decimal_1)"
   ]
  },
  {
   "cell_type": "markdown",
   "id": "6eb773a3",
   "metadata": {},
   "source": [
    "4. Write a Python Program To Find ASCII value of a character?"
   ]
  },
  {
   "cell_type": "code",
   "execution_count": 29,
   "id": "2d97fc88",
   "metadata": {},
   "outputs": [
    {
     "name": "stdout",
     "output_type": "stream",
     "text": [
      "Enter a character:$\n",
      "The ASCII value of $ is 36\n"
     ]
    }
   ],
   "source": [
    "S=input(\"Enter a character:\")\n",
    "print(\"The ASCII value of\",S,\"is\",ord(S))\n",
    "#we have used the ord() function for converting a character into an integer, that is, ASCII value.\n",
    "#This function is used to return the Unicode code point of the given character."
   ]
  },
  {
   "cell_type": "markdown",
   "id": "2f766f01",
   "metadata": {},
   "source": [
    "5. Write a Python Program to Make a Simple Calculator with 4 basic mathematical operations?"
   ]
  },
  {
   "cell_type": "code",
   "execution_count": 1,
   "id": "cf5ed1c6",
   "metadata": {},
   "outputs": [
    {
     "name": "stdout",
     "output_type": "stream",
     "text": [
      "Please select the operation.\n",
      "1. Add\n",
      "2. Subtract\n",
      "3. Multiply\n",
      "4. Divide\n",
      "Select operations from 1, 2, 3, 4 :3\n",
      "Enter first number: 9\n",
      "Enter second number: 7\n",
      "9 * 7 = 63\n"
     ]
    }
   ],
   "source": [
    "def add(num1,num2):\n",
    "    return num1+num2\n",
    "def sub(num1,num2):\n",
    "    return num1-num2\n",
    "def multiply(num1,num2):\n",
    "    return num1*num2\n",
    "def div(num1,num2):\n",
    "    return num1/num2\n",
    "print (\"Please select the operation.\") \n",
    "\n",
    "print (\"1. Add\")    \n",
    "print (\"2. Subtract\")    \n",
    "print (\"3. Multiply\")    \n",
    "print (\"4. Divide\") \n",
    "select = int(input(\"Select operations from 1, 2, 3, 4 :\"))  \n",
    "number_1 = int(input(\"Enter first number: \"))\n",
    "number_2 = int(input(\"Enter second number: \"))\n",
    "if select==1:\n",
    "    print(number_1,\"+\",number_2,\"=\",add(number_1,number_2))\n",
    "elif select==2:\n",
    "    print(number_1,\"-\",number_2,\"=\",sub(number_1,number_2))\n",
    "elif select==3:\n",
    "    print(number_1,\"*\",number_2,\"=\",multiply(number_1,number_2))\n",
    "elif select==4:\n",
    "    print(number_1,\"/\",number_2,\"=\",div(number_1,number_2))\n",
    "else:\n",
    "    print(\"invalid Input\")\n"
   ]
  }
 ],
 "metadata": {
  "kernelspec": {
   "display_name": "Python 3 (ipykernel)",
   "language": "python",
   "name": "python3"
  },
  "language_info": {
   "codemirror_mode": {
    "name": "ipython",
    "version": 3
   },
   "file_extension": ".py",
   "mimetype": "text/x-python",
   "name": "python",
   "nbconvert_exporter": "python",
   "pygments_lexer": "ipython3",
   "version": "3.9.7"
  }
 },
 "nbformat": 4,
 "nbformat_minor": 5
}
