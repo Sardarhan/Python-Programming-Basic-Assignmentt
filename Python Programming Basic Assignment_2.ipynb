{
 "cells": [
  {
   "cell_type": "markdown",
   "id": "f09e50b3",
   "metadata": {},
   "source": [
    "1.Write a Python program to convert kilometers to miles?"
   ]
  },
  {
   "cell_type": "code",
   "execution_count": 1,
   "id": "ef4c4a02",
   "metadata": {},
   "outputs": [
    {
     "name": "stdout",
     "output_type": "stream",
     "text": [
      "Enter the speed of car in kilometers:40\n",
      "The speed of car in miles: 24.854799999999997\n"
     ]
    }
   ],
   "source": [
    "#1 kilometre equals 0.62137 miles.  \n",
    "#Miles = kilometre * 0.62137   \n",
    "#Kilometre = Miles / 0.62137 \n",
    "#Hence, the value \"0.62137\" would be considered as the factor of conversation or the ratio for converting units.\n",
    "\n",
    "kilometer=int(input(\"Enter the speed of car in kilometers:\"))\n",
    "conversion_ratio=0.62137\n",
    "miles=kilometer*conversion_ratio\n",
    "print(\"The speed of car in miles:\",miles)"
   ]
  },
  {
   "cell_type": "markdown",
   "id": "53f597ac",
   "metadata": {},
   "source": [
    "2. Write a Python program to convert Celsius to Fahrenheit?"
   ]
  },
  {
   "cell_type": "code",
   "execution_count": 2,
   "id": "d050bb02",
   "metadata": {},
   "outputs": [
    {
     "name": "stdout",
     "output_type": "stream",
     "text": [
      "temperatur value in degree celsius:45\n",
      "45 degree celsius equal to 113.0 degree fahrenheit\n"
     ]
    }
   ],
   "source": [
    "celsius=int(input(\"temperatur value in degree celsius:\"))\n",
    "\n",
    "# calculate fahrenheit\n",
    "fahrenheit =(celsius * 1.8)+32\n",
    "print(\"%s degree celsius equal to %s degree fahrenheit\"%(celsius,fahrenheit))"
   ]
  },
  {
   "cell_type": "markdown",
   "id": "eb673f1e",
   "metadata": {},
   "source": [
    "3. Write a Python program to display calendar?"
   ]
  },
  {
   "cell_type": "code",
   "execution_count": 1,
   "id": "bd04b12e",
   "metadata": {},
   "outputs": [
    {
     "name": "stdout",
     "output_type": "stream",
     "text": [
      "Enter year:2022\n",
      "Enter month:01\n",
      "    January 2022\n",
      "Mo Tu We Th Fr Sa Su\n",
      "                1  2\n",
      " 3  4  5  6  7  8  9\n",
      "10 11 12 13 14 15 16\n",
      "17 18 19 20 21 22 23\n",
      "24 25 26 27 28 29 30\n",
      "31\n",
      "\n"
     ]
    }
   ],
   "source": [
    "import calendar\n",
    "#enter month and year\n",
    "yy=int(input(\"Enter year:\"))\n",
    "mm=int(input(\"Enter month:\"))\n",
    "\n",
    "#display the calender\n",
    "\n",
    "calendar=calendar.month(yy,mm)\n",
    "print(calendar)"
   ]
  },
  {
   "cell_type": "markdown",
   "id": "5166b254",
   "metadata": {},
   "source": [
    "4. Write a Python program to solve quadratic equation?"
   ]
  },
  {
   "cell_type": "code",
   "execution_count": 6,
   "id": "44438e4d",
   "metadata": {},
   "outputs": [
    {
     "name": "stdout",
     "output_type": "stream",
     "text": [
      "Enter the value of a:1\n",
      "Enter the value of b:5\n",
      "enter the value of c:6\n",
      "the solutions are (-3+0j) and (-2+0j)\n"
     ]
    }
   ],
   "source": [
    "# import complex math module  \n",
    "import cmath\n",
    "a=int(input(\"Enter the value of a:\"))\n",
    "b=int(input(\"Enter the value of b:\"))\n",
    "c=int(input(\"enter the value of c:\"))\n",
    "\n",
    "#calculate the discriminant\n",
    "d=(b**2)-(4*a*c)\n",
    "#find two solutions\n",
    "s1=(-b-cmath.sqrt(d))/(2*a)\n",
    "s2=(-b+cmath.sqrt(d))/(2*a)\n",
    "print(\"the solutions are %s and %s\"%(s1,s2))"
   ]
  },
  {
   "cell_type": "markdown",
   "id": "1583b657",
   "metadata": {},
   "source": [
    "5. Write a Python program to swap two variables without temp variable?"
   ]
  },
  {
   "cell_type": "code",
   "execution_count": 12,
   "id": "16bc4132",
   "metadata": {},
   "outputs": [
    {
     "name": "stdout",
     "output_type": "stream",
     "text": [
      "Enter the value of a:10\n",
      "Enter the value of b:15\n",
      "before swapping\n",
      " value of a is: 10 value of b is: 15\n",
      "After swapping\n",
      "Value of a is: 15  value of b is: 10\n"
     ]
    }
   ],
   "source": [
    "a=int(input(\"Enter the value of a:\"))\n",
    "b=int(input(\"Enter the value of b:\"))\n",
    "print(\"before swapping\")\n",
    "print(\" value of a is:\",a,\"value of b is:\",b)\n",
    "a,b=b,a\n",
    "print(\"After swapping\")\n",
    "print(\"Value of a is:\",a,\" value of b is:\",b)"
   ]
  },
  {
   "cell_type": "code",
   "execution_count": 14,
   "id": "eac45b38",
   "metadata": {},
   "outputs": [
    {
     "name": "stdout",
     "output_type": "stream",
     "text": [
      "Enter the value of a:10\n",
      "Enter the value of b:15\n",
      "before swapping\n",
      " value of a is: 10.0 value of b is: 15.0\n",
      "After swapping\n",
      "Value of a is: 15.0  value of b is: 10.0\n"
     ]
    }
   ],
   "source": [
    "##Method 2:- Using Addition and Subtraction Operators\n",
    "a=float(input(\"Enter the value of a:\"))\n",
    "b=float(input(\"Enter the value of b:\"))\n",
    "print(\"before swapping\")\n",
    "print(\" value of a is:\",a,\"value of b is:\",b)\n",
    "#method Using Addition and Subtraction Operators\n",
    "a=a+b\n",
    "b=a-b\n",
    "a=a-b\n",
    "print(\"After swapping\")\n",
    "print(\"Value of a is:\",a,\" value of b is:\",b)"
   ]
  },
  {
   "cell_type": "code",
   "execution_count": null,
   "id": "92e725ec",
   "metadata": {},
   "outputs": [],
   "source": []
  }
 ],
 "metadata": {
  "kernelspec": {
   "display_name": "Python 3 (ipykernel)",
   "language": "python",
   "name": "python3"
  },
  "language_info": {
   "codemirror_mode": {
    "name": "ipython",
    "version": 3
   },
   "file_extension": ".py",
   "mimetype": "text/x-python",
   "name": "python",
   "nbconvert_exporter": "python",
   "pygments_lexer": "ipython3",
   "version": "3.9.7"
  }
 },
 "nbformat": 4,
 "nbformat_minor": 5
}
